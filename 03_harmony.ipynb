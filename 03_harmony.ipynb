{
 "cells": [
  {
   "cell_type": "code",
   "execution_count": null,
   "id": "018dff79",
   "metadata": {
    "vscode": {
     "languageId": "plaintext"
    }
   },
   "outputs": [],
   "source": [
    "import omicverse as ov\n",
    "import scanpy as sc\n",
    "import pandas as pd\n",
    "import scvi\n",
    "import scib\n",
    "from matplotlib.pyplot import rc_context"
   ]
  },
  {
   "cell_type": "code",
   "execution_count": null,
   "id": "b15c555e",
   "metadata": {
    "vscode": {
     "languageId": "plaintext"
    }
   },
   "outputs": [],
   "source": [
    "print(f'omicverse version: {ov.__version__}')\n",
    "print(f'scanpy version: {sc.__version__}')"
   ]
  },
  {
   "cell_type": "code",
   "execution_count": null,
   "id": "a16eb4b9",
   "metadata": {
    "vscode": {
     "languageId": "plaintext"
    }
   },
   "outputs": [],
   "source": [
    "import torch # 如果pytorch安装成功即可导入\n",
    "print(torch.cuda.is_available()) # 查看CUDA是否可用\n",
    "print(torch.cuda.device_count()) # 查看可用的CUDA数量\n",
    "print(torch.version.cuda) # 查看CUDA的版本号\n",
    "print(torch.cuda.device_count())"
   ]
  },
  {
   "cell_type": "code",
   "execution_count": null,
   "id": "3780bae7",
   "metadata": {
    "vscode": {
     "languageId": "plaintext"
    }
   },
   "outputs": [],
   "source": [
    "from Function.clean_adata import *\n",
    "from Function.remove_noise_genes import *\n",
    "from Function.save_embeding import *"
   ]
  },
  {
   "cell_type": "code",
   "execution_count": null,
   "id": "e1ccf1dc",
   "metadata": {
    "vscode": {
     "languageId": "plaintext"
    }
   },
   "outputs": [],
   "source": [
    "adata=sc.read_h5ad('/data/data_mailab003/project/scrna-npc-22-tl/Downstream/integrate/process_data/seu_preprocess_shiftlog_pearson_hvg2000_pc20_louvain_res1.0_add_group.h5ad')\n",
    "adata"
   ]
  },
  {
   "cell_type": "code",
   "execution_count": null,
   "id": "ed0c35e9",
   "metadata": {
    "vscode": {
     "languageId": "plaintext"
    }
   },
   "outputs": [],
   "source": [
    "sc.settings.figdir = \"/data/data_mailab003/project/scrna-npc-22-tl/Downstream/results/batch\""
   ]
  },
  {
   "cell_type": "code",
   "execution_count": null,
   "id": "b3673f38",
   "metadata": {
    "vscode": {
     "languageId": "plaintext"
    }
   },
   "outputs": [],
   "source": [
    "with rc_context({'figure.figsize': (8, 8)}):\n",
    "    sc.pl.umap(adata,color=[\"louvain_res1.0\",\"major_celltype\"],frameon=False, legend_loc='on data',\n",
    "               legend_fontsize=12, legend_fontoutline=2,save=\"before_batch.png\")"
   ]
  },
  {
   "cell_type": "code",
   "execution_count": null,
   "id": "d5fb61c9",
   "metadata": {
    "vscode": {
     "languageId": "plaintext"
    }
   },
   "outputs": [],
   "source": [
    "## note: the newest version of omicverse modified the code of batch correction, currently it should be : ov.single.batch_correction(adata,batch_key='study',methods='harmony',n_pcs=50)\n",
    "adata=ov.single.batch_correction(adata,batch_key='study',methods='harmony',n_pcs=50)"
   ]
  },
  {
   "cell_type": "code",
   "execution_count": null,
   "id": "87b46ef8",
   "metadata": {
    "vscode": {
     "languageId": "plaintext"
    }
   },
   "outputs": [],
   "source": [
    "sc.pp.neighbors(adata, n_neighbors=15, n_pcs=20, use_rep='X_pca_harmony',key_added=\"neighbors_harmony\")\n",
    "sc.tl.umap(adata,neighbors_key=\"neighbors_harmony\")\n",
    "adata.obsm['X_umap_harmony']=adata.obsm['X_umap']"
   ]
  },
  {
   "cell_type": "code",
   "execution_count": null,
   "id": "84bf6b95",
   "metadata": {
    "vscode": {
     "languageId": "plaintext"
    }
   },
   "outputs": [],
   "source": [
    "ov.utils.cluster(adata,method=\"louvain\",key_added=\"louvain_res1.0\", neighbors_key=\"neighbors_harmony\",resolution=1.0)"
   ]
  },
  {
   "cell_type": "code",
   "execution_count": null,
   "id": "f155a399",
   "metadata": {
    "vscode": {
     "languageId": "plaintext"
    }
   },
   "outputs": [],
   "source": [
    "with rc_context({'figure.figsize': (8, 8)}):\n",
    "    sc.pl.umap(adata,color=[\"louvain_res1.0\",\"major_celltype\",\"study\"],neighbors_key=\"neighbors_harmony\",frameon=False, legend_loc='on data',\n",
    "               legend_fontsize=12, legend_fontoutline=2)"
   ]
  },
  {
   "cell_type": "code",
   "execution_count": null,
   "id": "4b2c3742",
   "metadata": {
    "vscode": {
     "languageId": "plaintext"
    }
   },
   "outputs": [],
   "source": [
    "adata.write_h5ad(\"/data/data_mailab003/project/scrna-npc-22-tl/Downstream/integrate/process_data/seu_preprocess_shiftlog_pearson_hvg2000_pc20_louvain_res1.0_add_group_harmony.h5ad\")"
   ]
  }
 ],
 "metadata": {
  "language_info": {
   "name": "python"
  }
 },
 "nbformat": 4,
 "nbformat_minor": 5
}
